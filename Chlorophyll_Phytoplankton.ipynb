{
 "cells": [
  {
   "cell_type": "code",
   "execution_count": 30,
   "metadata": {},
   "outputs": [],
   "source": [
    "import matplotlib.pyplot as plt\n",
    "import numpy as np\n",
    "import csv "
   ]
  },
  {
   "cell_type": "code",
   "execution_count": 31,
   "metadata": {},
   "outputs": [],
   "source": [
    "csvFile = open(\"chlorophyll_mgm3_Dec_2018.csv\",'r')\n",
    "csvReader = csv.reader(csvFile, delimiter=',')\n",
    "data_lists2018= list(csvReader)"
   ]
  },
  {
   "cell_type": "code",
   "execution_count": 32,
   "metadata": {},
   "outputs": [],
   "source": [
    "#print(data_lists2002)"
   ]
  },
  {
   "cell_type": "code",
   "execution_count": 33,
   "metadata": {},
   "outputs": [
    {
     "name": "stdout",
     "output_type": "stream",
     "text": [
      "720\n"
     ]
    }
   ],
   "source": [
    "print(len(data_lists2018[0]))"
   ]
  },
  {
   "cell_type": "code",
   "execution_count": 34,
   "metadata": {},
   "outputs": [
    {
     "name": "stdout",
     "output_type": "stream",
     "text": [
      "360\n"
     ]
    }
   ],
   "source": [
    "print(len(data_lists2018))"
   ]
  },
  {
   "cell_type": "code",
   "execution_count": 35,
   "metadata": {},
   "outputs": [],
   "source": [
    "height = 360\n",
    "width = 720"
   ]
  },
  {
   "cell_type": "code",
   "execution_count": 36,
   "metadata": {},
   "outputs": [],
   "source": [
    "grid = np.empty([height, width, 3], dtype=np.uint8) "
   ]
  },
  {
   "cell_type": "code",
   "execution_count": 37,
   "metadata": {},
   "outputs": [],
   "source": [
    "all_value2018 = [] # We will fill in this empty list with all the data values as we go\n",
    "\n",
    "for r, row in enumerate(data_lists2018):\n",
    "    for c, value in enumerate(row):\n",
    "        if float(value) < 99999:\n",
    "            all_value2018.append(float(value)) # This is where we fill in the list with all data values\n",
    "        if float(value) <= 0.01:\n",
    "            grid[r, c] = [146, 179, 159]\n",
    "        elif float(value) <= 0.1:\n",
    "            grid[r, c] = [146, 179, 159]\n",
    "        elif float(value) <= 0.3:\n",
    "            grid[r, c] = [106, 156, 120]\n",
    "        elif float(value) <= 0.5:\n",
    "            grid[r, c] = [2, 227, 88]\n",
    "        elif float(value) <= 0.7:\n",
    "            grid[r, c] = [2, 199, 77]\n",
    "        elif float(value) <= 0.9:\n",
    "            grid[r, c] = [0, 166, 63]\n",
    "        elif float(value) <= 3:\n",
    "            grid[r, c] = [1, 112, 43]\n",
    "        elif float(value) <= 53:\n",
    "            grid[r, c] = [12, 82, 32]\n",
    "        else:\n",
    "            grid[r, c] = [0, 0, 0]\n",
    "    \n",
    "       "
   ]
  },
  {
   "cell_type": "code",
   "execution_count": 38,
   "metadata": {},
   "outputs": [
    {
     "name": "stdout",
     "output_type": "stream",
     "text": [
      "52.307\n",
      "0.01\n"
     ]
    }
   ],
   "source": [
    "print(max(all_value2018))\n",
    "print(min(all_value2018))"
   ]
  },
  {
   "cell_type": "code",
   "execution_count": 44,
   "metadata": {},
   "outputs": [
    {
     "name": "stderr",
     "output_type": "stream",
     "text": [
      "'c' argument looks like a single numeric RGB or RGBA sequence, which should be avoided as value-mapping will have precedence in case its length matches with 'x' & 'y'.  Please use a 2-D array with a single row if you really want to specify the same RGB or RGBA value for all points.\n",
      "'c' argument looks like a single numeric RGB or RGBA sequence, which should be avoided as value-mapping will have precedence in case its length matches with 'x' & 'y'.  Please use a 2-D array with a single row if you really want to specify the same RGB or RGBA value for all points.\n",
      "'c' argument looks like a single numeric RGB or RGBA sequence, which should be avoided as value-mapping will have precedence in case its length matches with 'x' & 'y'.  Please use a 2-D array with a single row if you really want to specify the same RGB or RGBA value for all points.\n"
     ]
    },
    {
     "data": {
      "image/png": "[encoded data removed]",
      "text/plain": [
       "<Figure size 432x288 with 1 Axes>"
      ]
     },
     "metadata": {
      "needs_background": "light"
     },
     "output_type": "display_data"
    }
   ],
   "source": [
    "plt.scatter([],[],c=(146/255,179/255,159/255),label=\"Lowest Concentration\")\n",
    "plt.scatter([],[],c=(2/255,227/255,88/255),label=\"Medium Concentration\")\n",
    "plt.scatter([],[],c=(1/255,112/255,43/255),label= \"Highest Concentration\")\n",
    "plt.legend(bbox_to_anchor =[1.0, 0.03])\n",
    "plt.title(\"Chlorophyll Phytoplankton 2018\")\n",
    "plt.imshow(grid)\n",
    "plt.axis('off')\n",
    "plt.savefig(\"Chlorophyll_2018.png\",dpi = 1000)\n",
    "plt.show()"
   ]
  },
  {
   "cell_type": "code",
   "execution_count": null,
   "metadata": {},
   "outputs": [],
   "source": []
  }
 ],
 "metadata": {
  "kernelspec": {
   "display_name": "Python 3",
   "language": "python",
   "name": "python3"
  },
  "language_info": {
   "codemirror_mode": {
    "name": "ipython",
    "version": 3
   },
   "file_extension": ".py",
   "mimetype": "text/x-python",
   "name": "python",
   "nbconvert_exporter": "python",
   "pygments_lexer": "ipython3",
   "version": "3.7.3"
  }
 },
 "nbformat": 4,
 "nbformat_minor": 2
}
